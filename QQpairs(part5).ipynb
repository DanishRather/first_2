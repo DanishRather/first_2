{
 "cells": [
  {
   "cell_type": "code",
   "execution_count": 1,
   "metadata": {},
   "outputs": [
    {
     "name": "stderr",
     "output_type": "stream",
     "text": [
      "C:\\ProgramData\\Anaconda3\\lib\\site-packages\\fuzzywuzzy\\fuzz.py:11: UserWarning: Using slow pure-python SequenceMatcher. Install python-Levenshtein to remove this warning\n",
      "  warnings.warn('Using slow pure-python SequenceMatcher. Install python-Levenshtein to remove this warning')\n"
     ]
    }
   ],
   "source": [
    "import pandas as pd\n",
    "import seaborn as sns\n",
    "import numpy as np\n",
    "import matplotlib.pyplot as plt\n",
    "\n",
    "import re\n",
    "import nltk\n",
    "from nltk.corpus import stopwords\n",
    "from nltk.tokenize import word_tokenize\n",
    "from nltk.stem import PorterStemmer\n",
    "# nltk.download('punkt')   Package punkt is already up-to-date!\n",
    "# nltk.download(\"stopwords\")    Package stopwords is already up-to-date!\n",
    "\n",
    "\n",
    "from nltk.stem import WordNetLemmatizer\n",
    "# nltk.download('wordnet')  Package wordnet is already up-to-date!\n",
    "\n",
    "from wordcloud import WordCloud,STOPWORDS\n",
    "\n",
    "# IMPORT FUZZYWUZZY\n",
    "from fuzzywuzzy import fuzz\n",
    "\n",
    "from sklearn.manifold import TSNE\n",
    "\n",
    "import time\n",
    "# start_time =time.clock()\n",
    "# print(time.clock()-start_time,\"seconds\")\n",
    "LEMATIZE = WordNetLemmatizer()\n",
    "STOP_WORDS=stopwords.words(\"english\")\n",
    "\n",
    "from sklearn.feature_extraction.text import  TfidfVectorizer\n",
    "from sklearn.feature_extraction.text import CountVectorizer\n",
    "\n",
    "\n",
    "import warnings\n",
    "warnings.filterwarnings(\"ignore\")"
   ]
  },
  {
   "cell_type": "code",
   "execution_count": 2,
   "metadata": {},
   "outputs": [
    {
     "name": "stdout",
     "output_type": "stream",
     "text": [
      "(404290, 6)\n"
     ]
    },
    {
     "data": {
      "text/html": [
       "<div>\n",
       "<style scoped>\n",
       "    .dataframe tbody tr th:only-of-type {\n",
       "        vertical-align: middle;\n",
       "    }\n",
       "\n",
       "    .dataframe tbody tr th {\n",
       "        vertical-align: top;\n",
       "    }\n",
       "\n",
       "    .dataframe thead th {\n",
       "        text-align: right;\n",
       "    }\n",
       "</style>\n",
       "<table border=\"1\" class=\"dataframe\">\n",
       "  <thead>\n",
       "    <tr style=\"text-align: right;\">\n",
       "      <th></th>\n",
       "      <th>id</th>\n",
       "      <th>qid1</th>\n",
       "      <th>qid2</th>\n",
       "      <th>question1</th>\n",
       "      <th>question2</th>\n",
       "      <th>is_duplicate</th>\n",
       "    </tr>\n",
       "  </thead>\n",
       "  <tbody>\n",
       "    <tr>\n",
       "      <th>0</th>\n",
       "      <td>0</td>\n",
       "      <td>1</td>\n",
       "      <td>2</td>\n",
       "      <td>What is the step by step guide to invest in sh...</td>\n",
       "      <td>What is the step by step guide to invest in sh...</td>\n",
       "      <td>0</td>\n",
       "    </tr>\n",
       "    <tr>\n",
       "      <th>1</th>\n",
       "      <td>1</td>\n",
       "      <td>3</td>\n",
       "      <td>4</td>\n",
       "      <td>What is the story of Kohinoor (Koh-i-Noor) Dia...</td>\n",
       "      <td>What would happen if the Indian government sto...</td>\n",
       "      <td>0</td>\n",
       "    </tr>\n",
       "    <tr>\n",
       "      <th>2</th>\n",
       "      <td>2</td>\n",
       "      <td>5</td>\n",
       "      <td>6</td>\n",
       "      <td>How can I increase the speed of my internet co...</td>\n",
       "      <td>How can Internet speed be increased by hacking...</td>\n",
       "      <td>0</td>\n",
       "    </tr>\n",
       "    <tr>\n",
       "      <th>3</th>\n",
       "      <td>3</td>\n",
       "      <td>7</td>\n",
       "      <td>8</td>\n",
       "      <td>Why am I mentally very lonely? How can I solve...</td>\n",
       "      <td>Find the remainder when [math]23^{24}[/math] i...</td>\n",
       "      <td>0</td>\n",
       "    </tr>\n",
       "    <tr>\n",
       "      <th>4</th>\n",
       "      <td>4</td>\n",
       "      <td>9</td>\n",
       "      <td>10</td>\n",
       "      <td>Which one dissolve in water quikly sugar, salt...</td>\n",
       "      <td>Which fish would survive in salt water?</td>\n",
       "      <td>0</td>\n",
       "    </tr>\n",
       "  </tbody>\n",
       "</table>\n",
       "</div>"
      ],
      "text/plain": [
       "   id  qid1  qid2                                          question1  \\\n",
       "0   0     1     2  What is the step by step guide to invest in sh...   \n",
       "1   1     3     4  What is the story of Kohinoor (Koh-i-Noor) Dia...   \n",
       "2   2     5     6  How can I increase the speed of my internet co...   \n",
       "3   3     7     8  Why am I mentally very lonely? How can I solve...   \n",
       "4   4     9    10  Which one dissolve in water quikly sugar, salt...   \n",
       "\n",
       "                                           question2  is_duplicate  \n",
       "0  What is the step by step guide to invest in sh...             0  \n",
       "1  What would happen if the Indian government sto...             0  \n",
       "2  How can Internet speed be increased by hacking...             0  \n",
       "3  Find the remainder when [math]23^{24}[/math] i...             0  \n",
       "4            Which fish would survive in salt water?             0  "
      ]
     },
     "execution_count": 2,
     "metadata": {},
     "output_type": "execute_result"
    }
   ],
   "source": [
    "Qd = pd.read_csv(r\"Z:\\DS DATA\\train.csv\")\n",
    "print(Qd.shape)\n",
    "Qd.head()\n"
   ]
  },
  {
   "cell_type": "code",
   "execution_count": 3,
   "metadata": {},
   "outputs": [
    {
     "name": "stdout",
     "output_type": "stream",
     "text": [
      "0    255027\n",
      "1    149263\n",
      "Name: is_duplicate, dtype: int64\n"
     ]
    }
   ],
   "source": [
    "print(Qd[\"is_duplicate\"].value_counts())"
   ]
  },
  {
   "cell_type": "code",
   "execution_count": 4,
   "metadata": {},
   "outputs": [
    {
     "name": "stdout",
     "output_type": "stream",
     "text": [
      "73.1658506 seconds\n"
     ]
    }
   ],
   "source": [
    "start_time =time.clock()\n",
    "def emptly(x):\n",
    "    if len(str(x['question1']))<=6:\n",
    "        x['question1']=\"\"\n",
    "    if len(str(x['question2']))<=6:\n",
    "        x['question2']=\"\"\n",
    "    if x[\"is_duplicate\"]==0 and (x['question1']==\"\" or x['question2']==\"\"):\n",
    "        x['is_duplicate']=1\n",
    "    return x\n",
    "Qd = Qd.apply(emptly,axis=1)\n",
    "print(time.clock()-start_time,\"seconds\")       "
   ]
  },
  {
   "cell_type": "code",
   "execution_count": 5,
   "metadata": {},
   "outputs": [
    {
     "name": "stdout",
     "output_type": "stream",
     "text": [
      "0    254952\n",
      "1    149338\n",
      "Name: is_duplicate, dtype: int64\n"
     ]
    }
   ],
   "source": [
    "print(Qd[\"is_duplicate\"].value_counts())"
   ]
  },
  {
   "cell_type": "code",
   "execution_count": 6,
   "metadata": {},
   "outputs": [
    {
     "name": "stdout",
     "output_type": "stream",
     "text": [
      "Total of qid1 + qid2: 808580 \n",
      " No. of Unique Qids: 537933 \n",
      " No. of Duplicate Quds:270647\n"
     ]
    }
   ],
   "source": [
    "Qids = pd.Series(Qd['qid1'].tolist()+Qd['qid2'].tolist())\n",
    "unique_Qids = Qids.unique()\n",
    "\n",
    "Qids_counts=Qids.value_counts()\n",
    "print('Total of qid1 + qid2: {} \\n No. of Unique Qids: {} \\n No. of Duplicate Quds:{}'\n",
    "      .format(len(Qids),len(unique_Qids),len(Qids)-len(unique_Qids)))"
   ]
  },
  {
   "cell_type": "code",
   "execution_count": 7,
   "metadata": {},
   "outputs": [
    {
     "data": {
      "image/png": "[encoded data removed]",
      "text/plain": [
       "<Figure size 432x288 with 1 Axes>"
      ]
     },
     "metadata": {
      "needs_background": "light"
     },
     "output_type": "display_data"
    }
   ],
   "source": [
    "x=[\"Total Questions\",\"Unique Questions\",\"Repeated Question\"]\n",
    "y=[len(Qids),len(Qids.unique()),len(Qids)-len(Qids.unique())]\n",
    "plt.title(\"Distribution of Question repeating and non-repeating\")\n",
    "sns.barplot(x,y)\n",
    "plt.show()"
   ]
  },
  {
   "cell_type": "code",
   "execution_count": 8,
   "metadata": {},
   "outputs": [
    {
     "name": "stdout",
     "output_type": "stream",
     "text": [
      "28.89247370000001 seconds\n"
     ]
    }
   ],
   "source": [
    "start_time =time.clock()\n",
    "def preprocess(x):\n",
    "    x=re.sub(\"  *\",\" \",re.sub(\"<.*?>\",\" \",str(x).lower()))\n",
    "#     x=re.sub(\"  *\",\" \",re.sub('<[a-zA-Z]*>|</[a-zA-Z]*>',' ',str(x))).lower()\n",
    "    x=x.replace(\"%\",\"percent\").replace(\"$\",\"dollar\").replace(\"₹\",\"rupees\").replace(\"rs\",\"rupees\").replace(\n",
    "    \"i'm\",\"i am\").replace(\"don't\",\"do not\").replace(\"&\",\"and\").replace(\"we're\",\"we are\").replace(\"you're\",\"you are\").replace(\n",
    "        \"they're\",\"they are\").replace(\"he's\",\"he is\").replace(\"have't\",\"have not\").replace(\n",
    "        \"has't\",\"has not\").replace(\"is't\",\"is not\").replace(\"didn't\",\"did not\").replace(\"he'll\",\"he will\").replace(\n",
    "    \"she'll\",\"she will\").replace(\"it'll\",\"it will\").replace(',000',\"k\").replace(\"000,000\",\"m\").replace(\"'ve\",\"have\").replace(\n",
    "        '000',\"k\").replace(\"000000\",\"m\").replace(\"/\",\"\").replace(\"?\",\"\").replace(\"(\",\"\").replace(\")\",\"\").replace(\n",
    "        \"'s\",\"\")\n",
    "    x = re.sub(r\"([0-9]+)000000\", r\"\\1m\", x)\n",
    "    x = re.sub(r\"([0-9]+)000\", r\"\\1k\", x)\n",
    "    x=re.sub(\"[^a-z0-9-]\",\" \",x)\n",
    "    return  x\n",
    "        \n",
    "Qd[\"question1\"] = Qd[\"question1\"].apply(preprocess)\n",
    "Qd[\"question2\"] = Qd[\"question2\"].apply(preprocess)\n",
    "print(time.clock()-start_time,\"seconds\")       \n"
   ]
  },
  {
   "cell_type": "code",
   "execution_count": 9,
   "metadata": {},
   "outputs": [
    {
     "name": "stdout",
     "output_type": "stream",
     "text": [
      "(404290, 20)\n",
      "56.41870230000001 seconds\n"
     ]
    }
   ],
   "source": [
    "start_time =time.clock()\n",
    "# Frequency of qid1 and qid2 in \n",
    "Qd['freq_qid1'] = Qd.groupby(Qd[\"qid1\"])[\"qid1\"].transform(\"count\")\n",
    "Qd['freq_qid2'] = Qd.groupby(Qd[\"qid2\"])[\"qid2\"].transform(\"count\")\n",
    "\n",
    "# # total no of alphabits in question text \n",
    "Qd['q1_alphabit_len'] = Qd['question1'].str.len()\n",
    "Qd['q2_alphabit_len'] = Qd['question2'].str.len()\n",
    "\n",
    "# counts of word in each Questions\n",
    "Qd['q1_n_unique_words'] = Qd[\"question1\"].apply(lambda x: len(set(x.split())))\n",
    "Qd['q2_n_unique_words'] = Qd[\"question2\"].apply(lambda x: len(set(x.split())))\n",
    "\n",
    "# Union of Question 1 and Question 2\n",
    "Qd[\"q1_union_q2\"] = Qd.apply(lambda w: (len(set(w['question1'].split()).union(set(w['question2'].split()))))*1.0,axis=1)\n",
    "\n",
    "# Intersection of Question 1 and Question 2\n",
    "Qd[\"q1_intersec_q2\"] = Qd.apply(lambda w: (len(set(w['question1'].split()).intersection(set(w['question1'].split()))))*1.0,axis=1)\n",
    "\n",
    "#total number of words in\n",
    "Qd[\"total_unique_words\"] = Qd.apply(lambda w: (len(set(w[\"question1\"].split()))+len(set(w[\"question2\"].split())))*1.0,axis=1)\n",
    "\n",
    "#Words share of Intersectioned words outof Union words of Q1 and Q2\n",
    "Qd['word_share']= (Qd[\"q1_intersec_q2\"]/Qd[\"total_unique_words\"])*1.0\n",
    "\n",
    "\n",
    "# Intersection Divided by Union of Words----\n",
    "Qd[\"intr_by_union\"] = (Qd[\"q1_intersec_q2\"]/Qd[\"q1_union_q2\"])*1.0\n",
    "\n",
    "# Intersected words of q1 and q1 DIFFERENCE union words of q1 and q1 \n",
    "Qd[\"intr_diff_union\"] = Qd.apply(lambda x: abs(x[\"q1_intersec_q2\"] - x[\"q1_union_q2\"]),axis=1)\n",
    "\n",
    "# sum of Frequency of Q1 and Q2\n",
    "Qd[\"fq1_pls_fq2\"] = Qd['freq_qid1']+Qd['freq_qid2']\n",
    "\n",
    "# Difference of Frequency of Q1 and Q2\n",
    "Qd[\"fq1_diff_fq2\"] = abs(Qd['freq_qid1']-Qd['freq_qid2'])\n",
    "\n",
    "\n",
    "print(Qd.shape)\n",
    "print(time.clock()-start_time,\"seconds\")       \n",
    "\n"
   ]
  },
  {
   "cell_type": "code",
   "execution_count": 10,
   "metadata": {},
   "outputs": [
    {
     "name": "stdout",
     "output_type": "stream",
     "text": [
      "(404290, 30)\n",
      "268.44763389999997 seconds\n"
     ]
    }
   ],
   "source": [
    "# computing common_word_count_min cwc_min\n",
    "start_time =time.clock()\n",
    "\n",
    "SAFE_DIV = 0.0001\n",
    "def extract_features(x):\n",
    "    \n",
    "    global SAFE_DIV\n",
    "    q1_token=word_tokenize(x[\"question1\"])\n",
    "    q2_token=word_tokenize(x[\"question2\"])\n",
    "    \n",
    "    q1_words = set([word for word in q1_token if word not in STOP_WORDS])\n",
    "    q2_words = set([word for word in q2_token if word not in STOP_WORDS])\n",
    "    \n",
    "    q1_stops = set([word for word in q1_token if word in STOP_WORDS])\n",
    "    q2_stops = set([word for word in q2_token if word in STOP_WORDS])\n",
    "    \n",
    "    common_word_count = len(q1_words.intersection(q2_words))\n",
    "    common_stop_count = len(q1_stops.intersection(q2_stops))\n",
    "    common_token_count = len(set(q1_token).intersection(set(q2_token)))\n",
    "    \n",
    "    cwc_min=0\n",
    "    cwc_max=0\n",
    "#     MIN MAX FOR WORDS\n",
    "    cwc_max = common_word_count / (max(len(q1_words), len(q2_words)) + SAFE_DIV)  # MAX\n",
    "    cwc_min = common_word_count / (min(len(q1_words), len(q2_words)) + SAFE_DIV) # MIN\n",
    "\n",
    "#     MIN MAX FOR STOP WORDS\n",
    "    csc_min=0\n",
    "    csc_max=0\n",
    "    csc_max = common_stop_count / (max(len(q1_stops), len(q2_stops)) + SAFE_DIV)  # MAX\n",
    "    csc_min = common_stop_count / (min(len(q1_stops), len(q2_stops)) + SAFE_DIV) # MIN\n",
    "    \n",
    "#     MIN MAX FOR TOKENS\n",
    "    ctc_min=0\n",
    "    ctc_max=0\n",
    "    ctc_max = common_token_count / (max(len(q1_token), len(q2_token)) + SAFE_DIV)  # MAX\n",
    "    ctc_min = common_token_count / (min(len(q1_token), len(q2_token)) + SAFE_DIV) # MIN\n",
    "\n",
    "#     LAST WORD FIRST WORD DIFF. LAST WORD DIFF. ABSOLUTE DIFF. RATION B/W TOKENS\n",
    "    if len(q1_token)<=0 or len(q2_token)<=0:\n",
    "        fw_com =0\n",
    "        lw_com =0\n",
    "    else:\n",
    "        fw_com = int(q1_token[0]==q2_token[0])\n",
    "        lw_com = int(q1_token[-1]==q2_token[-1])\n",
    "    abs_diff= abs(len(q1_token)-len(q2_token))\n",
    "    ratio = (len(q1_token)+len(q2_token)) / 2\n",
    "    \n",
    "    return cwc_min, cwc_max, csc_min, csc_max, ctc_min, ctc_max, fw_com, lw_com, abs_diff, ratio\n",
    "    \n",
    "Qd[[\"cwc_min\",\"cwc_max\",\"csc_min\",\"csc_max\",\"ctc_min\",\"ctc_max\",\"fw_com\",\"lw_com\",\"abs_diff\",\"ratio\"]] = Qd.apply(extract_features,axis=1,result_type=\"expand\")\n",
    "\n",
    "print(Qd.shape)\n",
    "print(time.clock()-start_time,\"seconds\")       \n"
   ]
  },
  {
   "cell_type": "code",
   "execution_count": 11,
   "metadata": {},
   "outputs": [
    {
     "name": "stdout",
     "output_type": "stream",
     "text": [
      "(404290, 34)\n",
      "1575.4841339 seconds\n"
     ]
    }
   ],
   "source": [
    "start_time =time.clock()\n",
    "def fuzzyfeatures(x):\n",
    "    token_set_ratio = fuzz.token_set_ratio(x[\"question1\"],x[\"question2\"])\n",
    "    token_sort_ratio = fuzz.token_sort_ratio(x[\"question1\"],x[\"question2\"])\n",
    "    fuzz_ratio = fuzz.QRatio (x[\"question1\"],x[\"question2\"])\n",
    "    partial_ratio = fuzz.partial_ratio(x[\"question1\"],x[\"question2\"])\n",
    "\n",
    "    return token_set_ratio,token_sort_ratio,fuzz_ratio,partial_ratio\n",
    "\n",
    "Qd[[\"token_set_ratio\",\"token_sort_ratio\",\"fuzz_ratio\",\"partial_ratio\"]]=Qd.apply(fuzzyfeatures,axis=1,result_type='expand')\n",
    "\n",
    "print(Qd.shape)\n",
    "print(time.clock()-start_time,\"seconds\")       \n"
   ]
  },
  {
   "cell_type": "code",
   "execution_count": 12,
   "metadata": {},
   "outputs": [
    {
     "name": "stdout",
     "output_type": "stream",
     "text": [
      "165.26818980000007 seconds\n"
     ]
    }
   ],
   "source": [
    "\n",
    "start_time =time.clock()\n",
    "def lematize(x):\n",
    "    token=word_tokenize(x)\n",
    "    l=[]\n",
    "    if len(token)>=1:\n",
    "        for i in token:\n",
    "            l.append(LEMATIZE.lemmatize(i))\n",
    "        return \" \".join(l)\n",
    "    else:\n",
    "        return x\n",
    "Qd[\"question1\"] = Qd[\"question1\"].apply(lematize)\n",
    "Qd[\"question2\"]=Qd[\"question2\"].apply(lematize)\n",
    "\n",
    "print(time.clock()-start_time,\"seconds\")       "
   ]
  },
  {
   "cell_type": "code",
   "execution_count": 16,
   "metadata": {},
   "outputs": [],
   "source": [
    "Qd.to_csv(r\"Z:\\DS DATA\\result.csv\")"
   ]
  },
  {
   "cell_type": "code",
   "execution_count": 13,
   "metadata": {},
   "outputs": [
    {
     "name": "stdout",
     "output_type": "stream",
     "text": [
      "47.070462099999986 seconds\n"
     ]
    }
   ],
   "source": [
    "start_time =time.clock()\n",
    "glove = open(r'Z:\\DS DATA\\glove.6B.300d.txt',encoding=\"utf8\")\n",
    "\n",
    "glovedict={}\n",
    "for line in glove:\n",
    "    l=line.split()\n",
    "    glovedict[l[0]] =np.asarray(l[1:])\n",
    "print(time.clock()-start_time,\"seconds\")"
   ]
  },
  {
   "cell_type": "code",
   "execution_count": 14,
   "metadata": {},
   "outputs": [],
   "source": [
    "# glovedict.to_pickle(r\"Z:\\DS DATA\\glovedict.pickle\")\n",
    "# Qd = pd.read_pickle(r\"Z:\\DS DATA\\Qd.pickle\")"
   ]
  },
  {
   "cell_type": "code",
   "execution_count": 15,
   "metadata": {},
   "outputs": [
    {
     "name": "stdout",
     "output_type": "stream",
     "text": [
      "808580\n",
      "4.800945299999967 seconds\n"
     ]
    }
   ],
   "source": [
    "start_time =time.clock()\n",
    "text = list(Qd[\"question1\"])+list(Qd['question2'])\n",
    "print(len(text))\n",
    "print(time.clock()-start_time,\"seconds\")"
   ]
  },
  {
   "cell_type": "code",
   "execution_count": 17,
   "metadata": {},
   "outputs": [
    {
     "data": {
      "text/plain": [
       "Index(['id', 'qid1', 'qid2', 'question1', 'question2', 'is_duplicate',\n",
       "       'freq_qid1', 'freq_qid2', 'q1_alphabit_len', 'q2_alphabit_len',\n",
       "       'q1_n_unique_words', 'q2_n_unique_words', 'q1_union_q2',\n",
       "       'q1_intersec_q2', 'total_unique_words', 'word_share', 'intr_by_union',\n",
       "       'intr_diff_union', 'fq1_pls_fq2', 'fq1_diff_fq2', 'cwc_min', 'cwc_max',\n",
       "       'csc_min', 'csc_max', 'ctc_min', 'ctc_max', 'fw_com', 'lw_com',\n",
       "       'abs_diff', 'ratio', 'token_set_ratio', 'token_sort_ratio',\n",
       "       'fuzz_ratio', 'partial_ratio'],\n",
       "      dtype='object')"
      ]
     },
     "execution_count": 17,
     "metadata": {},
     "output_type": "execute_result"
    }
   ],
   "source": [
    "Qd.columns"
   ]
  },
  {
   "cell_type": "code",
   "execution_count": 18,
   "metadata": {},
   "outputs": [
    {
     "data": {
      "text/plain": [
       "Index(['is_duplicate', 'freq_qid1', 'freq_qid2', 'q1_alphabit_len',\n",
       "       'q2_alphabit_len', 'q1_n_unique_words', 'q2_n_unique_words',\n",
       "       'q1_union_q2', 'q1_intersec_q2', 'total_unique_words', 'word_share',\n",
       "       'intr_by_union', 'intr_diff_union', 'fq1_pls_fq2', 'fq1_diff_fq2',\n",
       "       'cwc_min', 'cwc_max', 'csc_min', 'csc_max', 'ctc_min', 'ctc_max',\n",
       "       'fw_com', 'lw_com', 'abs_diff', 'ratio', 'token_set_ratio',\n",
       "       'token_sort_ratio', 'fuzz_ratio', 'partial_ratio'],\n",
       "      dtype='object')"
      ]
     },
     "execution_count": 18,
     "metadata": {},
     "output_type": "execute_result"
    }
   ],
   "source": [
    "Qd.drop(columns=[\"id\",\"qid1\",\"qid2\",\"question1\",\"question2\"],axis=1,inplace=True)\n",
    "Qd.columns"
   ]
  },
  {
   "cell_type": "code",
   "execution_count": 20,
   "metadata": {},
   "outputs": [],
   "source": [
    "Qd.to_csv(r\"Z:\\DS DATA\\modeldf.csv\",index=False)"
   ]
  },
  {
   "cell_type": "code",
   "execution_count": 24,
   "metadata": {},
   "outputs": [
    {
     "data": {
      "text/html": [
       "<div>\n",
       "<style scoped>\n",
       "    .dataframe tbody tr th:only-of-type {\n",
       "        vertical-align: middle;\n",
       "    }\n",
       "\n",
       "    .dataframe tbody tr th {\n",
       "        vertical-align: top;\n",
       "    }\n",
       "\n",
       "    .dataframe thead th {\n",
       "        text-align: right;\n",
       "    }\n",
       "</style>\n",
       "<table border=\"1\" class=\"dataframe\">\n",
       "  <thead>\n",
       "    <tr style=\"text-align: right;\">\n",
       "      <th></th>\n",
       "      <th>is_duplicate</th>\n",
       "      <th>freq_qid1</th>\n",
       "      <th>freq_qid2</th>\n",
       "      <th>q1_alphabit_len</th>\n",
       "      <th>q2_alphabit_len</th>\n",
       "      <th>q1_n_unique_words</th>\n",
       "      <th>q2_n_unique_words</th>\n",
       "      <th>q1_union_q2</th>\n",
       "      <th>q1_intersec_q2</th>\n",
       "      <th>total_unique_words</th>\n",
       "      <th>...</th>\n",
       "      <th>ctc_min</th>\n",
       "      <th>ctc_max</th>\n",
       "      <th>fw_com</th>\n",
       "      <th>lw_com</th>\n",
       "      <th>abs_diff</th>\n",
       "      <th>ratio</th>\n",
       "      <th>token_set_ratio</th>\n",
       "      <th>token_sort_ratio</th>\n",
       "      <th>fuzz_ratio</th>\n",
       "      <th>partial_ratio</th>\n",
       "    </tr>\n",
       "  </thead>\n",
       "  <tbody>\n",
       "    <tr>\n",
       "      <th>0</th>\n",
       "      <td>0</td>\n",
       "      <td>1</td>\n",
       "      <td>1</td>\n",
       "      <td>65</td>\n",
       "      <td>56</td>\n",
       "      <td>12</td>\n",
       "      <td>11</td>\n",
       "      <td>12.0</td>\n",
       "      <td>12.0</td>\n",
       "      <td>23.0</td>\n",
       "      <td>...</td>\n",
       "      <td>0.916659</td>\n",
       "      <td>0.785709</td>\n",
       "      <td>1.0</td>\n",
       "      <td>0.0</td>\n",
       "      <td>2.0</td>\n",
       "      <td>13.0</td>\n",
       "      <td>100</td>\n",
       "      <td>93</td>\n",
       "      <td>93</td>\n",
       "      <td>100</td>\n",
       "    </tr>\n",
       "    <tr>\n",
       "      <th>1</th>\n",
       "      <td>0</td>\n",
       "      <td>4</td>\n",
       "      <td>1</td>\n",
       "      <td>48</td>\n",
       "      <td>85</td>\n",
       "      <td>8</td>\n",
       "      <td>12</td>\n",
       "      <td>15.0</td>\n",
       "      <td>8.0</td>\n",
       "      <td>20.0</td>\n",
       "      <td>...</td>\n",
       "      <td>0.624992</td>\n",
       "      <td>0.384612</td>\n",
       "      <td>1.0</td>\n",
       "      <td>0.0</td>\n",
       "      <td>5.0</td>\n",
       "      <td>10.5</td>\n",
       "      <td>86</td>\n",
       "      <td>63</td>\n",
       "      <td>65</td>\n",
       "      <td>73</td>\n",
       "    </tr>\n",
       "    <tr>\n",
       "      <th>2</th>\n",
       "      <td>0</td>\n",
       "      <td>1</td>\n",
       "      <td>1</td>\n",
       "      <td>72</td>\n",
       "      <td>58</td>\n",
       "      <td>14</td>\n",
       "      <td>10</td>\n",
       "      <td>20.0</td>\n",
       "      <td>14.0</td>\n",
       "      <td>24.0</td>\n",
       "      <td>...</td>\n",
       "      <td>0.399996</td>\n",
       "      <td>0.285712</td>\n",
       "      <td>1.0</td>\n",
       "      <td>0.0</td>\n",
       "      <td>4.0</td>\n",
       "      <td>12.0</td>\n",
       "      <td>63</td>\n",
       "      <td>63</td>\n",
       "      <td>43</td>\n",
       "      <td>46</td>\n",
       "    </tr>\n",
       "    <tr>\n",
       "      <th>3</th>\n",
       "      <td>0</td>\n",
       "      <td>1</td>\n",
       "      <td>1</td>\n",
       "      <td>48</td>\n",
       "      <td>63</td>\n",
       "      <td>10</td>\n",
       "      <td>10</td>\n",
       "      <td>20.0</td>\n",
       "      <td>10.0</td>\n",
       "      <td>20.0</td>\n",
       "      <td>...</td>\n",
       "      <td>0.000000</td>\n",
       "      <td>0.000000</td>\n",
       "      <td>0.0</td>\n",
       "      <td>0.0</td>\n",
       "      <td>2.0</td>\n",
       "      <td>12.0</td>\n",
       "      <td>28</td>\n",
       "      <td>24</td>\n",
       "      <td>9</td>\n",
       "      <td>11</td>\n",
       "    </tr>\n",
       "    <tr>\n",
       "      <th>4</th>\n",
       "      <td>0</td>\n",
       "      <td>3</td>\n",
       "      <td>1</td>\n",
       "      <td>75</td>\n",
       "      <td>38</td>\n",
       "      <td>13</td>\n",
       "      <td>7</td>\n",
       "      <td>16.0</td>\n",
       "      <td>13.0</td>\n",
       "      <td>20.0</td>\n",
       "      <td>...</td>\n",
       "      <td>0.571420</td>\n",
       "      <td>0.307690</td>\n",
       "      <td>1.0</td>\n",
       "      <td>0.0</td>\n",
       "      <td>6.0</td>\n",
       "      <td>10.0</td>\n",
       "      <td>67</td>\n",
       "      <td>47</td>\n",
       "      <td>35</td>\n",
       "      <td>55</td>\n",
       "    </tr>\n",
       "  </tbody>\n",
       "</table>\n",
       "<p>5 rows × 29 columns</p>\n",
       "</div>"
      ],
      "text/plain": [
       "   is_duplicate  freq_qid1  freq_qid2  q1_alphabit_len  q2_alphabit_len  \\\n",
       "0             0          1          1               65               56   \n",
       "1             0          4          1               48               85   \n",
       "2             0          1          1               72               58   \n",
       "3             0          1          1               48               63   \n",
       "4             0          3          1               75               38   \n",
       "\n",
       "   q1_n_unique_words  q2_n_unique_words  q1_union_q2  q1_intersec_q2  \\\n",
       "0                 12                 11         12.0            12.0   \n",
       "1                  8                 12         15.0             8.0   \n",
       "2                 14                 10         20.0            14.0   \n",
       "3                 10                 10         20.0            10.0   \n",
       "4                 13                  7         16.0            13.0   \n",
       "\n",
       "   total_unique_words  ...   ctc_min   ctc_max  fw_com  lw_com  abs_diff  \\\n",
       "0                23.0  ...  0.916659  0.785709     1.0     0.0       2.0   \n",
       "1                20.0  ...  0.624992  0.384612     1.0     0.0       5.0   \n",
       "2                24.0  ...  0.399996  0.285712     1.0     0.0       4.0   \n",
       "3                20.0  ...  0.000000  0.000000     0.0     0.0       2.0   \n",
       "4                20.0  ...  0.571420  0.307690     1.0     0.0       6.0   \n",
       "\n",
       "   ratio  token_set_ratio  token_sort_ratio  fuzz_ratio  partial_ratio  \n",
       "0   13.0              100                93          93            100  \n",
       "1   10.5               86                63          65             73  \n",
       "2   12.0               63                63          43             46  \n",
       "3   12.0               28                24           9             11  \n",
       "4   10.0               67                47          35             55  \n",
       "\n",
       "[5 rows x 29 columns]"
      ]
     },
     "execution_count": 24,
     "metadata": {},
     "output_type": "execute_result"
    }
   ],
   "source": [
    "# df=pd.read_csv(r\"Z:\\DS DATA\\modeldf.csv\")\n",
    "df.head()"
   ]
  },
  {
   "cell_type": "code",
   "execution_count": 157,
   "metadata": {},
   "outputs": [
    {
     "name": "stdout",
     "output_type": "stream",
     "text": [
      "23.58931600001233 seconds\n"
     ]
    }
   ],
   "source": [
    "start_time =time.clock()\n",
    "\n",
    "tfidf = TfidfVectorizer()\n",
    "# countvect =CountVectorizer()\n",
    "tfidf.fit_transform(text)\n",
    "word2vec = dict(zip(tfidf.get_feature_names(),tfidf.idf_))\n",
    "\n",
    "print(time.clock()-start_time,\"seconds\")"
   ]
  },
  {
   "cell_type": "code",
   "execution_count": 158,
   "metadata": {},
   "outputs": [
    {
     "name": "stdout",
     "output_type": "stream",
     "text": [
      "6.775325700000394 seconds\n"
     ]
    }
   ],
   "source": [
    "start_time =time.clock()\n",
    "A = np.float64(0.001)\n",
    "def get_data(x):\n",
    "    l1=[]\n",
    "    q1= x.split()\n",
    "    for i in q1:\n",
    "        l1.append(word2vec.get(i,A))\n",
    "    return np.asarray(l1,np.float64)\n",
    "Qd['q1_tfidf']=Qd['question1'].apply(get_data)\n",
    "Qd['q2_tfidf']=Qd['question2'].apply(get_data)\n",
    "print(time.clock()-start_time,\"seconds\")"
   ]
  },
  {
   "cell_type": "code",
   "execution_count": 82,
   "metadata": {},
   "outputs": [
    {
     "name": "stdout",
     "output_type": "stream",
     "text": [
      "(404290, 36)\n"
     ]
    },
    {
     "data": {
      "text/html": [
       "<div>\n",
       "<style scoped>\n",
       "    .dataframe tbody tr th:only-of-type {\n",
       "        vertical-align: middle;\n",
       "    }\n",
       "\n",
       "    .dataframe tbody tr th {\n",
       "        vertical-align: top;\n",
       "    }\n",
       "\n",
       "    .dataframe thead th {\n",
       "        text-align: right;\n",
       "    }\n",
       "</style>\n",
       "<table border=\"1\" class=\"dataframe\">\n",
       "  <thead>\n",
       "    <tr style=\"text-align: right;\">\n",
       "      <th></th>\n",
       "      <th>id</th>\n",
       "      <th>qid1</th>\n",
       "      <th>qid2</th>\n",
       "      <th>question1</th>\n",
       "      <th>question2</th>\n",
       "      <th>is_duplicate</th>\n",
       "      <th>freq_qid1</th>\n",
       "      <th>freq_qid2</th>\n",
       "      <th>q1_alphabit_len</th>\n",
       "      <th>q2_alphabit_len</th>\n",
       "      <th>...</th>\n",
       "      <th>fw_com</th>\n",
       "      <th>lw_com</th>\n",
       "      <th>abs_diff</th>\n",
       "      <th>ratio</th>\n",
       "      <th>token_set_ratio</th>\n",
       "      <th>token_sort_ratio</th>\n",
       "      <th>fuzz_ratio</th>\n",
       "      <th>partial_ratio</th>\n",
       "      <th>q2_tfidf</th>\n",
       "      <th>q1_tfidf</th>\n",
       "    </tr>\n",
       "  </thead>\n",
       "  <tbody>\n",
       "    <tr>\n",
       "      <th>0</th>\n",
       "      <td>0</td>\n",
       "      <td>1</td>\n",
       "      <td>2</td>\n",
       "      <td>what is the step by step guide to invest in sh...</td>\n",
       "      <td>what is the step by step guide to invest in sh...</td>\n",
       "      <td>0</td>\n",
       "      <td>1</td>\n",
       "      <td>1</td>\n",
       "      <td>65</td>\n",
       "      <td>56</td>\n",
       "      <td>...</td>\n",
       "      <td>1.0</td>\n",
       "      <td>0.0</td>\n",
       "      <td>2.0</td>\n",
       "      <td>13.0</td>\n",
       "      <td>100</td>\n",
       "      <td>93</td>\n",
       "      <td>93</td>\n",
       "      <td>100</td>\n",
       "      <td>[1.9401179276160585, 2.148627941594631, 1.9737...</td>\n",
       "      <td>[1.9401179276160585, 2.148627941594631, 1.9737...</td>\n",
       "    </tr>\n",
       "    <tr>\n",
       "      <th>1</th>\n",
       "      <td>1</td>\n",
       "      <td>3</td>\n",
       "      <td>4</td>\n",
       "      <td>what is the story of kohinoor koh-i-noor diamond</td>\n",
       "      <td>what would happen if the indian government sto...</td>\n",
       "      <td>0</td>\n",
       "      <td>4</td>\n",
       "      <td>1</td>\n",
       "      <td>48</td>\n",
       "      <td>85</td>\n",
       "      <td>...</td>\n",
       "      <td>1.0</td>\n",
       "      <td>0.0</td>\n",
       "      <td>5.0</td>\n",
       "      <td>10.5</td>\n",
       "      <td>86</td>\n",
       "      <td>63</td>\n",
       "      <td>65</td>\n",
       "      <td>73</td>\n",
       "      <td>[1.9401179276160585, 4.56878351609414, 6.09468...</td>\n",
       "      <td>[1.9401179276160585, 2.148627941594631, 1.9737...</td>\n",
       "    </tr>\n",
       "    <tr>\n",
       "      <th>2</th>\n",
       "      <td>2</td>\n",
       "      <td>5</td>\n",
       "      <td>6</td>\n",
       "      <td>how can i increase the speed of my internet co...</td>\n",
       "      <td>how can internet speed be increased by hacking...</td>\n",
       "      <td>0</td>\n",
       "      <td>1</td>\n",
       "      <td>1</td>\n",
       "      <td>72</td>\n",
       "      <td>58</td>\n",
       "      <td>...</td>\n",
       "      <td>1.0</td>\n",
       "      <td>0.0</td>\n",
       "      <td>4.0</td>\n",
       "      <td>12.0</td>\n",
       "      <td>63</td>\n",
       "      <td>63</td>\n",
       "      <td>43</td>\n",
       "      <td>46</td>\n",
       "      <td>[2.316706962014094, 2.941251109868922, 6.76272...</td>\n",
       "      <td>[2.316706962014094, 2.941251109868922, 0.001, ...</td>\n",
       "    </tr>\n",
       "    <tr>\n",
       "      <th>3</th>\n",
       "      <td>3</td>\n",
       "      <td>7</td>\n",
       "      <td>8</td>\n",
       "      <td>why am i mentally very lonely how can i solve it</td>\n",
       "      <td>find the remainder when math 23 24 math is div...</td>\n",
       "      <td>0</td>\n",
       "      <td>1</td>\n",
       "      <td>1</td>\n",
       "      <td>48</td>\n",
       "      <td>63</td>\n",
       "      <td>...</td>\n",
       "      <td>0.0</td>\n",
       "      <td>0.0</td>\n",
       "      <td>2.0</td>\n",
       "      <td>12.0</td>\n",
       "      <td>28</td>\n",
       "      <td>24</td>\n",
       "      <td>9</td>\n",
       "      <td>11</td>\n",
       "      <td>[5.340008444254631, 1.9737861762729119, 9.6685...</td>\n",
       "      <td>[3.291040291408146, 4.873425895984985, 0.001, ...</td>\n",
       "    </tr>\n",
       "    <tr>\n",
       "      <th>4</th>\n",
       "      <td>4</td>\n",
       "      <td>9</td>\n",
       "      <td>10</td>\n",
       "      <td>which one dissolve in water quikly sugar salt ...</td>\n",
       "      <td>which fish would survive in salt water</td>\n",
       "      <td>0</td>\n",
       "      <td>3</td>\n",
       "      <td>1</td>\n",
       "      <td>75</td>\n",
       "      <td>38</td>\n",
       "      <td>...</td>\n",
       "      <td>1.0</td>\n",
       "      <td>0.0</td>\n",
       "      <td>6.0</td>\n",
       "      <td>10.0</td>\n",
       "      <td>67</td>\n",
       "      <td>47</td>\n",
       "      <td>35</td>\n",
       "      <td>55</td>\n",
       "      <td>[3.9264356237758657, 8.558030824473809, 4.5687...</td>\n",
       "      <td>[3.9264356237758657, 4.658790593501525, 10.272...</td>\n",
       "    </tr>\n",
       "  </tbody>\n",
       "</table>\n",
       "<p>5 rows × 36 columns</p>\n",
       "</div>"
      ],
      "text/plain": [
       "   id  qid1  qid2                                          question1  \\\n",
       "0   0     1     2  what is the step by step guide to invest in sh...   \n",
       "1   1     3     4   what is the story of kohinoor koh-i-noor diamond   \n",
       "2   2     5     6  how can i increase the speed of my internet co...   \n",
       "3   3     7     8   why am i mentally very lonely how can i solve it   \n",
       "4   4     9    10  which one dissolve in water quikly sugar salt ...   \n",
       "\n",
       "                                           question2  is_duplicate  freq_qid1  \\\n",
       "0  what is the step by step guide to invest in sh...             0          1   \n",
       "1  what would happen if the indian government sto...             0          4   \n",
       "2  how can internet speed be increased by hacking...             0          1   \n",
       "3  find the remainder when math 23 24 math is div...             0          1   \n",
       "4             which fish would survive in salt water             0          3   \n",
       "\n",
       "   freq_qid2  q1_alphabit_len  q2_alphabit_len  ...  fw_com  lw_com  abs_diff  \\\n",
       "0          1               65               56  ...     1.0     0.0       2.0   \n",
       "1          1               48               85  ...     1.0     0.0       5.0   \n",
       "2          1               72               58  ...     1.0     0.0       4.0   \n",
       "3          1               48               63  ...     0.0     0.0       2.0   \n",
       "4          1               75               38  ...     1.0     0.0       6.0   \n",
       "\n",
       "   ratio  token_set_ratio  token_sort_ratio  fuzz_ratio  partial_ratio  \\\n",
       "0   13.0              100                93          93            100   \n",
       "1   10.5               86                63          65             73   \n",
       "2   12.0               63                63          43             46   \n",
       "3   12.0               28                24           9             11   \n",
       "4   10.0               67                47          35             55   \n",
       "\n",
       "                                            q2_tfidf  \\\n",
       "0  [1.9401179276160585, 2.148627941594631, 1.9737...   \n",
       "1  [1.9401179276160585, 4.56878351609414, 6.09468...   \n",
       "2  [2.316706962014094, 2.941251109868922, 6.76272...   \n",
       "3  [5.340008444254631, 1.9737861762729119, 9.6685...   \n",
       "4  [3.9264356237758657, 8.558030824473809, 4.5687...   \n",
       "\n",
       "                                            q1_tfidf  \n",
       "0  [1.9401179276160585, 2.148627941594631, 1.9737...  \n",
       "1  [1.9401179276160585, 2.148627941594631, 1.9737...  \n",
       "2  [2.316706962014094, 2.941251109868922, 0.001, ...  \n",
       "3  [3.291040291408146, 4.873425895984985, 0.001, ...  \n",
       "4  [3.9264356237758657, 4.658790593501525, 10.272...  \n",
       "\n",
       "[5 rows x 36 columns]"
      ]
     },
     "execution_count": 82,
     "metadata": {},
     "output_type": "execute_result"
    }
   ],
   "source": [
    "print(Qd.shape)\n",
    "Qd.head()"
   ]
  },
  {
   "cell_type": "code",
   "execution_count": 162,
   "metadata": {},
   "outputs": [
    {
     "data": {
      "text/plain": [
       "(404290, 36)"
      ]
     },
     "execution_count": 162,
     "metadata": {},
     "output_type": "execute_result"
    }
   ],
   "source": [
    "Qd.columns"
   ]
  }
 ],
 "metadata": {
  "kernelspec": {
   "display_name": "Python 3",
   "language": "python",
   "name": "python3"
  },
  "language_info": {
   "codemirror_mode": {
    "name": "ipython",
    "version": 3
   },
   "file_extension": ".py",
   "mimetype": "text/x-python",
   "name": "python",
   "nbconvert_exporter": "python",
   "pygments_lexer": "ipython3",
   "version": "3.7.3"
  }
 },
 "nbformat": 4,
 "nbformat_minor": 2
}
